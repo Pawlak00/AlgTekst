{
 "cells": [
  {
   "cell_type": "markdown",
   "metadata": {},
   "source": [
    "Piotr Pawłowski laboratorium 5"
   ]
  },
  {
   "cell_type": "code",
   "execution_count": 135,
   "metadata": {},
   "outputs": [],
   "source": [
    "import numpy as np\n",
    "import re\n",
    "from sklearn.cluster import DBSCAN"
   ]
  },
  {
   "cell_type": "markdown",
   "metadata": {},
   "source": [
    "## metryka cosinusowa"
   ]
  },
  {
   "cell_type": "code",
   "execution_count": 179,
   "metadata": {},
   "outputs": [],
   "source": [
    "def cos_metric(vector1,vector2):\n",
    "    if np.linalg.norm(vector1)!=0 and np.linalg.norm(vector2)!=0:\n",
    "        return np.abs(1-(np.dot(vector1,vector2/(np.linalg.norm(vector1)*np.linalg.norm(vector2)))))\n",
    "    return 0"
   ]
  },
  {
   "cell_type": "code",
   "execution_count": 180,
   "metadata": {},
   "outputs": [
    {
     "name": "stdout",
     "output_type": "stream",
     "text": [
      "0.06439851429360033\n"
     ]
    }
   ],
   "source": [
    "print(cos_metric(np.array([5,0,3,0,2,0,0,2,0,0]),np.array([3,0,2,0,1,1,0,1,0,1])))"
   ]
  },
  {
   "cell_type": "markdown",
   "metadata": {},
   "source": [
    "## metryka euklidesowa"
   ]
  },
  {
   "cell_type": "code",
   "execution_count": 144,
   "metadata": {},
   "outputs": [],
   "source": [
    "def eucl_metric(vector1,vector2):\n",
    "    return np.sqrt(np.linalg.norm(vector1-vector2))"
   ]
  },
  {
   "cell_type": "code",
   "execution_count": 145,
   "metadata": {},
   "outputs": [
    {
     "name": "stdout",
     "output_type": "stream",
     "text": [
      "1.7320508075688772\n"
     ]
    }
   ],
   "source": [
    "print(eucl_metric(np.array([5,0,3,0,2,0,0,2,0,0]),np.array([3,0,2,0,1,1,0,1,0,1])))"
   ]
  },
  {
   "cell_type": "markdown",
   "metadata": {},
   "source": [
    "## metryka dice"
   ]
  },
  {
   "cell_type": "code",
   "execution_count": 146,
   "metadata": {},
   "outputs": [],
   "source": [
    "def dice_metric(vector1,vector2):\n",
    "#     print(vector1[vector1==vector2])\n",
    "    if np.linalg.norm(vector1)==0 and np.linalg.norm(vector2)==0:\n",
    "        return 0\n",
    "    return 1-(2*np.linalg.norm(vector1[vector1==vector2])/(np.linalg.norm(vector1)+np.linalg.norm(vector2)))"
   ]
  },
  {
   "cell_type": "code",
   "execution_count": 147,
   "metadata": {},
   "outputs": [
    {
     "name": "stdout",
     "output_type": "stream",
     "text": [
      "[5 0 3 0 2 0 0 0 0]\n",
      "0.031189599309305205\n"
     ]
    }
   ],
   "source": [
    "dice_metric(np.array([5,0,3,0,2,0,0,2,0,0]),np.array([3,0,2,0,1,1,0,1,0,1]))\n",
    "v1=np.array([5,0,3,0,2,0,0,2,0,0])\n",
    "v2=np.array([5,0,3,0,2,0,0,1,0,0])\n",
    "print(v1[v1==v2])\n",
    "print(dice_metric(v1,v2))"
   ]
  },
  {
   "cell_type": "code",
   "execution_count": 148,
   "metadata": {},
   "outputs": [],
   "source": [
    "def make_ngrams(word,n):\n",
    "    x={}\n",
    "    for i in range(len(word)-n+1):\n",
    "        if not word[i:i+n] in x:\n",
    "            x[word[i:i+n]]=1 \n",
    "        else:\n",
    "            x[word[i:i+n]]+=1\n",
    "    return x\n",
    "def make_ngrams_adress(x,n=3):\n",
    "    return make_ngrams(tuple(re.split(\" |,|\\.\",x)),n)"
   ]
  },
  {
   "cell_type": "code",
   "execution_count": 149,
   "metadata": {},
   "outputs": [],
   "source": [
    "def make_vectors(ngram_x,ngram_y):\n",
    "    keys=set(ngram_x.keys()).union(set(ngram_y.keys()))\n",
    "    key_list=list(keys)\n",
    "    x_v=np.zeros(len(key_list))\n",
    "    y_v=np.zeros(len(key_list))\n",
    "    for i,e in enumerate(key_list):\n",
    "        if e in ngram_x:\n",
    "            x_v[i]=ngram_x[e]\n",
    "        if e in ngram_y:\n",
    "            y_v[i]=ngram_y[e]\n",
    "    return x_v,y_v"
   ]
  },
  {
   "cell_type": "markdown",
   "metadata": {},
   "source": [
    "## Levensthein distance"
   ]
  },
  {
   "cell_type": "code",
   "execution_count": 152,
   "metadata": {},
   "outputs": [],
   "source": [
    "def delta(a,b):\n",
    "    return 0 if a==b else 1\n",
    "def lev_dist(t1,t2):\n",
    "    m=len(t1)\n",
    "    n=len(t2)\n",
    "    d=[[0 for i in range(n+1)] for i in range(m+1)]\n",
    "    for i in range(m+1):\n",
    "        d[i][0]=i\n",
    "    for i in range(n+1):\n",
    "        d[0][i]=i\n",
    "    for i in range(1,m+1,1):\n",
    "        for j in range(1,n+1,1):\n",
    "            cost=delta(t1[i-1],t2[j-1])\n",
    "            d[i][j]=min(d[i-1][j]+1,d[i][j-1]+1,d[i-1][j-1]+cost)\n",
    "    ans=d[m][n]\n",
    "    return ans"
   ]
  },
  {
   "cell_type": "markdown",
   "metadata": {},
   "source": [
    "## pliki"
   ]
  },
  {
   "cell_type": "code",
   "execution_count": 157,
   "metadata": {},
   "outputs": [],
   "source": [
    "adresses=[]\n",
    "word_count={}\n",
    "with open('lines.txt','r') as file:\n",
    "    adresses=file.readlines()\n",
    "    for adress in adresses:\n",
    "        for word in adress.split():\n",
    "            if word_count.get(word,0) == 0:\n",
    "                word_count[word] = 1\n",
    "            else:\n",
    "                word_count[word] = word_count[word]+1\n",
    "\n",
    "avg=sum(list(word_count.values()))/len(word_count)\n",
    "\n",
    "stoplist=[]\n",
    "# tworzenie stoplisty\n",
    "for word,count in word_count.items():\n",
    "    if count>avg*4:\n",
    "        stoplist.append(word)"
   ]
  },
  {
   "cell_type": "markdown",
   "metadata": {},
   "source": [
    "## macierz odległości"
   ]
  },
  {
   "cell_type": "code",
   "execution_count": 158,
   "metadata": {},
   "outputs": [],
   "source": [
    "def calc_d_matrix(metric,texts_ngrams,metric_type=''):\n",
    "    result=[[0 for i in range(len(texts_ngrams))] for _ in range(len(texts_ngrams)) ]\n",
    "    for i in range(len(texts_ngrams)):\n",
    "        for j in range(len(texts_ngrams)):\n",
    "            if metric_type!='lev':\n",
    "                x,y=make_vectors(texts_ngrams[i],texts_ngrams[j]) \n",
    "            else:\n",
    "                x,y=texts_ngrams[i],texts_ngrams[j]\n",
    "            result[i][j] = metric(x,y)\n",
    "    return result"
   ]
  },
  {
   "cell_type": "code",
   "execution_count": 193,
   "metadata": {},
   "outputs": [],
   "source": [
    "adresses=adresses[:200]\n",
    "ngrams=[]\n",
    "for adr in adresses:\n",
    "    ngrams.append(make_ngrams_adress(adr))"
   ]
  },
  {
   "cell_type": "markdown",
   "metadata": {},
   "source": [
    "klasteryzacja"
   ]
  },
  {
   "cell_type": "code",
   "execution_count": 194,
   "metadata": {},
   "outputs": [],
   "source": [
    "d_matrix_cos=calc_d_matrix(cos_metric,ngrams)\n",
    "\n",
    "d_matrix_euclid=calc_d_matrix(eucl_metric,ngrams)\n",
    "\n",
    "d_matrix_dice=calc_d_matrix(dice_metric,ngrams)\n"
   ]
  },
  {
   "cell_type": "code",
   "execution_count": 195,
   "metadata": {},
   "outputs": [],
   "source": [
    "d_matrix_lev=calc_d_matrix(lev_dist,adresses,'lev')"
   ]
  },
  {
   "cell_type": "code",
   "execution_count": 218,
   "metadata": {},
   "outputs": [],
   "source": [
    "def make_etiquetes(labels,data):\n",
    "    labeled_adr=[[] for i in range(len(set(labels)))]\n",
    "    for n in labels:\n",
    "        labeled_adr[n].append(data[n])\n",
    "    return labeled_adr"
   ]
  },
  {
   "cell_type": "code",
   "execution_count": 224,
   "metadata": {},
   "outputs": [],
   "source": [
    "dice_clusters_m=DBSCAN(eps=0.4,min_samples=1,metric='precomputed')\n",
    "cos_clusters_m=DBSCAN(eps=0.2,min_samples=1,metric='precomputed')\n",
    "eucl_clusters_m=DBSCAN(eps=1.8,min_samples=1,metric='precomputed')\n",
    "lev_clusters_m=DBSCAN(eps=11,min_samples=1,metric='precomputed')\n",
    "\n",
    "dice_fitted=dice_clusters_m.fit(d_matrix_dice).labels_\n",
    "cos_fitted=cos_clusters_m.fit(d_matrix_cos).labels_\n",
    "eucl_fitted=eucl_clusters_m.fit(d_matrix_euclid).labels_\n",
    "lev_fitted=lev_clusters_m.fit(d_matrix_lev).labels_\n",
    "\n",
    "clusters_dice=make_etiquetes(dice_fitted,adresses)\n",
    "clusters_cos=make_etiquetes(cos_fitted,adresses)\n",
    "clusters_eucl=make_etiquetes(eucl_fitted,adresses)\n",
    "clusters_lev=make_etiquetes(lev_fitted,adresses)\n"
   ]
  },
  {
   "cell_type": "markdown",
   "metadata": {},
   "source": [
    "klasteryzacja ze stoplistą"
   ]
  },
  {
   "cell_type": "code",
   "execution_count": 236,
   "metadata": {},
   "outputs": [],
   "source": [
    "stop_applied=[]\n",
    "def del_stoplist(string,stoplist):\n",
    "    res=[x for x in string.split() if not x in stoplist]\n",
    "    return res"
   ]
  },
  {
   "cell_type": "code",
   "execution_count": 238,
   "metadata": {},
   "outputs": [],
   "source": [
    "for adr in adresses:\n",
    "    stop_applied.append(' '.join(del_stoplist(adr,stoplist)))\n",
    "ngrams=[]\n",
    "# print(stop_applied)\n",
    "for adr in stop_applied:\n",
    "    ngrams.append(make_ngrams_adress(adr))"
   ]
  },
  {
   "cell_type": "code",
   "execution_count": 239,
   "metadata": {},
   "outputs": [],
   "source": [
    "d_matrix_cos=calc_d_matrix(cos_metric,ngrams)\n",
    "\n",
    "d_matrix_euclid=calc_d_matrix(eucl_metric,ngrams)\n",
    "\n",
    "d_matrix_dice=calc_d_matrix(dice_metric,ngrams)"
   ]
  },
  {
   "cell_type": "code",
   "execution_count": 240,
   "metadata": {},
   "outputs": [],
   "source": [
    "d_matrix_lev=calc_d_matrix(lev_dist,stop_applied,'lev')"
   ]
  },
  {
   "cell_type": "code",
   "execution_count": 245,
   "metadata": {},
   "outputs": [],
   "source": [
    "dice_clusters_m=DBSCAN(eps=0.4,min_samples=1,metric='precomputed')\n",
    "cos_clusters_m=DBSCAN(eps=0.2,min_samples=1,metric='precomputed')\n",
    "eucl_clusters_m=DBSCAN(eps=1.8,min_samples=1,metric='precomputed')\n",
    "lev_clusters_m=DBSCAN(eps=11,min_samples=1,metric='precomputed')\n",
    "\n",
    "dice_fitted=dice_clusters_m.fit(d_matrix_dice).labels_\n",
    "cos_fitted=cos_clusters_m.fit(d_matrix_cos).labels_\n",
    "eucl_fitted=eucl_clusters_m.fit(d_matrix_euclid).labels_\n",
    "lev_fitted=lev_clusters_m.fit(d_matrix_lev).labels_\n",
    "\n",
    "clusters_dice_with_sl=make_etiquetes(dice_fitted,adresses)\n",
    "clusters_cos_with_sl=make_etiquetes(cos_fitted,adresses)\n",
    "clusters_eucl_with_sl=make_etiquetes(eucl_fitted,adresses)\n",
    "clusters_lev_with_sl=make_etiquetes(lev_fitted,adresses)\n"
   ]
  }
 ],
 "metadata": {
  "kernelspec": {
   "display_name": "Python 3",
   "language": "python",
   "name": "python3"
  },
  "language_info": {
   "codemirror_mode": {
    "name": "ipython",
    "version": 3
   },
   "file_extension": ".py",
   "mimetype": "text/x-python",
   "name": "python",
   "nbconvert_exporter": "python",
   "pygments_lexer": "ipython3",
   "version": "3.8.5"
  }
 },
 "nbformat": 4,
 "nbformat_minor": 4
}
